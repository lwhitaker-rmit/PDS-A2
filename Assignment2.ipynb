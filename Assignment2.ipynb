{
 "cells": [
  {
   "cell_type": "markdown",
   "id": "679e1482",
   "metadata": {},
   "source": [
    "# Retrieving and Preparing the Data"
   ]
  },
  {
   "cell_type": "code",
   "execution_count": 1,
   "id": "3fb6abe6",
   "metadata": {
    "scrolled": true
   },
   "outputs": [
    {
     "data": {
      "text/html": [
       "<div>\n",
       "<style scoped>\n",
       "    .dataframe tbody tr th:only-of-type {\n",
       "        vertical-align: middle;\n",
       "    }\n",
       "\n",
       "    .dataframe tbody tr th {\n",
       "        vertical-align: top;\n",
       "    }\n",
       "\n",
       "    .dataframe thead th {\n",
       "        text-align: right;\n",
       "    }\n",
       "</style>\n",
       "<table border=\"1\" class=\"dataframe\">\n",
       "  <thead>\n",
       "    <tr style=\"text-align: right;\">\n",
       "      <th></th>\n",
       "      <th>age</th>\n",
       "      <th>anaemia</th>\n",
       "      <th>creatinine_phosphokinase</th>\n",
       "      <th>diabetes</th>\n",
       "      <th>ejection_fraction</th>\n",
       "      <th>high_blood_pressure</th>\n",
       "      <th>platelets</th>\n",
       "      <th>serum_creatinine</th>\n",
       "      <th>serum_sodium</th>\n",
       "      <th>sex</th>\n",
       "      <th>smoking</th>\n",
       "      <th>time</th>\n",
       "      <th>DEATH_EVENT</th>\n",
       "    </tr>\n",
       "  </thead>\n",
       "  <tbody>\n",
       "    <tr>\n",
       "      <th>0</th>\n",
       "      <td>75.0</td>\n",
       "      <td>0</td>\n",
       "      <td>582</td>\n",
       "      <td>0</td>\n",
       "      <td>20</td>\n",
       "      <td>1</td>\n",
       "      <td>265000.00</td>\n",
       "      <td>1.9</td>\n",
       "      <td>130</td>\n",
       "      <td>1</td>\n",
       "      <td>0</td>\n",
       "      <td>4</td>\n",
       "      <td>1</td>\n",
       "    </tr>\n",
       "    <tr>\n",
       "      <th>1</th>\n",
       "      <td>55.0</td>\n",
       "      <td>0</td>\n",
       "      <td>7861</td>\n",
       "      <td>0</td>\n",
       "      <td>38</td>\n",
       "      <td>0</td>\n",
       "      <td>263358.03</td>\n",
       "      <td>1.1</td>\n",
       "      <td>136</td>\n",
       "      <td>1</td>\n",
       "      <td>0</td>\n",
       "      <td>6</td>\n",
       "      <td>1</td>\n",
       "    </tr>\n",
       "    <tr>\n",
       "      <th>2</th>\n",
       "      <td>65.0</td>\n",
       "      <td>0</td>\n",
       "      <td>146</td>\n",
       "      <td>0</td>\n",
       "      <td>20</td>\n",
       "      <td>0</td>\n",
       "      <td>162000.00</td>\n",
       "      <td>1.3</td>\n",
       "      <td>129</td>\n",
       "      <td>1</td>\n",
       "      <td>1</td>\n",
       "      <td>7</td>\n",
       "      <td>1</td>\n",
       "    </tr>\n",
       "    <tr>\n",
       "      <th>3</th>\n",
       "      <td>50.0</td>\n",
       "      <td>1</td>\n",
       "      <td>111</td>\n",
       "      <td>0</td>\n",
       "      <td>20</td>\n",
       "      <td>0</td>\n",
       "      <td>210000.00</td>\n",
       "      <td>1.9</td>\n",
       "      <td>137</td>\n",
       "      <td>1</td>\n",
       "      <td>0</td>\n",
       "      <td>7</td>\n",
       "      <td>1</td>\n",
       "    </tr>\n",
       "    <tr>\n",
       "      <th>4</th>\n",
       "      <td>65.0</td>\n",
       "      <td>1</td>\n",
       "      <td>160</td>\n",
       "      <td>1</td>\n",
       "      <td>20</td>\n",
       "      <td>0</td>\n",
       "      <td>327000.00</td>\n",
       "      <td>2.7</td>\n",
       "      <td>116</td>\n",
       "      <td>0</td>\n",
       "      <td>0</td>\n",
       "      <td>8</td>\n",
       "      <td>1</td>\n",
       "    </tr>\n",
       "  </tbody>\n",
       "</table>\n",
       "</div>"
      ],
      "text/plain": [
       "    age  anaemia  creatinine_phosphokinase  diabetes  ejection_fraction  \\\n",
       "0  75.0        0                       582         0                 20   \n",
       "1  55.0        0                      7861         0                 38   \n",
       "2  65.0        0                       146         0                 20   \n",
       "3  50.0        1                       111         0                 20   \n",
       "4  65.0        1                       160         1                 20   \n",
       "\n",
       "   high_blood_pressure  platelets  serum_creatinine  serum_sodium  sex  \\\n",
       "0                    1  265000.00               1.9           130    1   \n",
       "1                    0  263358.03               1.1           136    1   \n",
       "2                    0  162000.00               1.3           129    1   \n",
       "3                    0  210000.00               1.9           137    1   \n",
       "4                    0  327000.00               2.7           116    0   \n",
       "\n",
       "   smoking  time  DEATH_EVENT  \n",
       "0        0     4            1  \n",
       "1        0     6            1  \n",
       "2        1     7            1  \n",
       "3        0     7            1  \n",
       "4        0     8            1  "
      ]
     },
     "execution_count": 1,
     "metadata": {},
     "output_type": "execute_result"
    }
   ],
   "source": [
    "# Initiallistions\n",
    "import pandas as pd\n",
    "import matplotlib.pyplot as plt\n",
    "import numpy as np\n",
    "\n",
    "# Initiallise raw dataframe to raw_df\n",
    "raw_df = pd.read_csv('DataSets/Heart failure clinical records Data Set/heart_failure_clinical_records_dataset.csv', sep = ',')\n",
    "\n",
    "# We will create a copy for this raw dataframe and name it 'df'\n",
    "# This dataframe will be the primary source of further investigations.\n",
    "# The 'raw' dataframe is kept for future reference if need be, as some data may be lost in the cleaning process.\n",
    "df = raw_df.copy()\n",
    "df.head()"
   ]
  },
  {
   "cell_type": "markdown",
   "id": "e2c8e0fe",
   "metadata": {},
   "source": [
    "## Data Cleaning"
   ]
  },
  {
   "cell_type": "markdown",
   "id": "2cb942be",
   "metadata": {},
   "source": [
    "Initial observations of the dataset show no null/NA values."
   ]
  },
  {
   "cell_type": "code",
   "execution_count": 2,
   "id": "45db42a1",
   "metadata": {
    "scrolled": true
   },
   "outputs": [
    {
     "data": {
      "text/plain": [
       "age                         0\n",
       "anaemia                     0\n",
       "creatinine_phosphokinase    0\n",
       "diabetes                    0\n",
       "ejection_fraction           0\n",
       "high_blood_pressure         0\n",
       "platelets                   0\n",
       "serum_creatinine            0\n",
       "serum_sodium                0\n",
       "sex                         0\n",
       "smoking                     0\n",
       "time                        0\n",
       "DEATH_EVENT                 0\n",
       "dtype: int64"
      ]
     },
     "execution_count": 2,
     "metadata": {},
     "output_type": "execute_result"
    }
   ],
   "source": [
    "df.isnull().sum()"
   ]
  },
  {
   "cell_type": "code",
   "execution_count": 3,
   "id": "7810010f",
   "metadata": {},
   "outputs": [
    {
     "data": {
      "text/plain": [
       "age                         float64\n",
       "anaemia                       int64\n",
       "creatinine_phosphokinase      int64\n",
       "diabetes                      int64\n",
       "ejection_fraction             int64\n",
       "high_blood_pressure           int64\n",
       "platelets                   float64\n",
       "serum_creatinine            float64\n",
       "serum_sodium                  int64\n",
       "sex                           int64\n",
       "smoking                       int64\n",
       "time                          int64\n",
       "DEATH_EVENT                   int64\n",
       "dtype: object"
      ]
     },
     "execution_count": 3,
     "metadata": {},
     "output_type": "execute_result"
    }
   ],
   "source": [
    "df.dtypes"
   ]
  },
  {
   "cell_type": "markdown",
   "id": "6e8d1c8f",
   "metadata": {},
   "source": [
    "However, the 'age' category is described as a floating point decimal data type, which contradicts the dataset's description of this attribute being an integer. In order so see why this is the case, we will now display all values that are not valid as integers:"
   ]
  },
  {
   "cell_type": "code",
   "execution_count": 4,
   "id": "0e38c2ae",
   "metadata": {
    "scrolled": true
   },
   "outputs": [
    {
     "data": {
      "text/plain": [
       "185    60.667\n",
       "188    60.667\n",
       "Name: age, dtype: float64"
      ]
     },
     "execution_count": 4,
     "metadata": {},
     "output_type": "execute_result"
    }
   ],
   "source": [
    "df[df['age'] % 1 != 0]['age']"
   ]
  },
  {
   "cell_type": "markdown",
   "id": "c5546d21",
   "metadata": {},
   "source": [
    "As shown, the values in which are decimal are two patients with ages of `'60.667'`. It has been decided to round these numbers down, to properly fit within the feature's description."
   ]
  },
  {
   "cell_type": "code",
   "execution_count": 5,
   "id": "bf0fa0ed",
   "metadata": {},
   "outputs": [
    {
     "data": {
      "text/plain": [
       "Series([], Name: age, dtype: float64)"
      ]
     },
     "execution_count": 5,
     "metadata": {},
     "output_type": "execute_result"
    }
   ],
   "source": [
    "df['age'] = df['age'].apply(np.floor)\n",
    "df[df['age'] % 1 != 0]['age']"
   ]
  },
  {
   "cell_type": "markdown",
   "id": "b7bb1554",
   "metadata": {},
   "source": [
    "There are no more decimal numbers in `'age'`. We may now convert the data type back to `integer`."
   ]
  },
  {
   "cell_type": "code",
   "execution_count": 6,
   "id": "576ff7fa",
   "metadata": {},
   "outputs": [
    {
     "data": {
      "text/plain": [
       "dtype('int32')"
      ]
     },
     "execution_count": 6,
     "metadata": {},
     "output_type": "execute_result"
    }
   ],
   "source": [
    "df['age'] = df['age'].astype('int')\n",
    "df['age'].dtypes"
   ]
  },
  {
   "cell_type": "markdown",
   "id": "26726d92",
   "metadata": {},
   "source": [
    "The next attribute we will look at is `'creatinine_phosphokinase'`. This variable describes the patient's level of creatinine phosphokinase (CPK) in the blood. This is measured in mcg/L (micrograms per Litre) at a range of `23` to `7861` mcg/L."
   ]
  },
  {
   "cell_type": "code",
   "execution_count": 7,
   "id": "88150df7",
   "metadata": {},
   "outputs": [
    {
     "name": "stdout",
     "output_type": "stream",
     "text": [
      "The minimum in this feature is 23, \n",
      "    the maximum is 7861, \n",
      "    and its data type is \"int64\".\n"
     ]
    }
   ],
   "source": [
    "print(f\"\"\"The minimum in this feature is {df['creatinine_phosphokinase'].min()}, \n",
    "    the maximum is {df['creatinine_phosphokinase'].max()}, \n",
    "    and its data type is \\\"{df['creatinine_phosphokinase'].dtypes}\\\".\"\"\")"
   ]
  },
  {
   "cell_type": "markdown",
   "id": "56b02a29",
   "metadata": {},
   "source": [
    "In order to optimise the memory usage of this dataframe, we will assume that the amount of CPK in a patient's blood will not exceed that of the maximum number describable by the `int16` datatype, which is `32767`, and as such convert this feature to this less memory-rich datatype.\n",
    "\n",
    "While this won't make a significant difference in this dataset of 299 patients, this practice is healthy in the event that a larger database is provided."
   ]
  },
  {
   "cell_type": "code",
   "execution_count": 8,
   "id": "395b1deb",
   "metadata": {},
   "outputs": [
    {
     "name": "stdout",
     "output_type": "stream",
     "text": [
      "The minimum in this feature is 23, \n",
      "    the maximum is 7861, \n",
      "    and its data type is \"int16\".\n"
     ]
    }
   ],
   "source": [
    "df['creatinine_phosphokinase'] = df['creatinine_phosphokinase'].astype('int16')\n",
    "print(f\"\"\"The minimum in this feature is {df['creatinine_phosphokinase'].min()}, \n",
    "    the maximum is {df['creatinine_phosphokinase'].max()}, \n",
    "    and its data type is \\\"{df['creatinine_phosphokinase'].dtypes}\\\".\"\"\")"
   ]
  },
  {
   "cell_type": "markdown",
   "id": "8ca66103",
   "metadata": {},
   "source": [
    "We will similarly conduct the same method for the `'age'` feature, where the maximum number describable with `'int8'` being `127`."
   ]
  },
  {
   "cell_type": "code",
   "execution_count": 9,
   "id": "4e202758",
   "metadata": {},
   "outputs": [
    {
     "name": "stdout",
     "output_type": "stream",
     "text": [
      "The minimum in this feature is 40,\n",
      "    the maximum is 95, \n",
      "    and its data type is \"int8\".\n"
     ]
    }
   ],
   "source": [
    "df['age'] = df['age'].astype('int8')\n",
    "print(f\"\"\"The minimum in this feature is {df['age'].min()},\n",
    "    the maximum is {df['age'].max()}, \n",
    "    and its data type is \\\"{df['age'].dtypes}\\\".\"\"\")"
   ]
  },
  {
   "cell_type": "markdown",
   "id": "85dd7356",
   "metadata": {},
   "source": [
    "And continue this method of integer optimisation for the `'ejection_fraction'`, `'serum_sodium'`, and `'time'` features."
   ]
  },
  {
   "cell_type": "code",
   "execution_count": 10,
   "id": "9177d916",
   "metadata": {},
   "outputs": [
    {
     "data": {
      "text/plain": [
       "ejection_fraction     int8\n",
       "serum_sodium         int16\n",
       "time                 int16\n",
       "dtype: object"
      ]
     },
     "execution_count": 10,
     "metadata": {},
     "output_type": "execute_result"
    }
   ],
   "source": [
    "df['ejection_fraction'] = df['ejection_fraction'].astype('int8')\n",
    "df['serum_sodium'] = df['serum_sodium'].astype('int16')\n",
    "df['time'] = df['time'].astype('int16')\n",
    "df[['ejection_fraction', 'serum_sodium', 'time']].dtypes"
   ]
  },
  {
   "cell_type": "markdown",
   "id": "117f8b84",
   "metadata": {},
   "source": [
    "Whist exploring the other features, it was noticed that the `'platelets'` feature in the dataset are described as \"kiloplatelets/mL\" (<a href=\"https://bmcmedinformdecismak.biomedcentral.com/articles/10.1186/s12911-020-1023-5/tables/1\">Table 1 of the data's source document</a>), however the dataset given is in platelets/mL. This can easily be changed by dividing each platelet count by `1000`."
   ]
  },
  {
   "cell_type": "code",
   "execution_count": 11,
   "id": "ba70f56c",
   "metadata": {},
   "outputs": [
    {
     "data": {
      "text/plain": [
       "0    265.00\n",
       "1    263.36\n",
       "2    162.00\n",
       "3    210.00\n",
       "4    327.00\n",
       "Name: platelets, dtype: float64"
      ]
     },
     "execution_count": 11,
     "metadata": {},
     "output_type": "execute_result"
    }
   ],
   "source": [
    "df['platelets'] = df['platelets'].div(1000).round(2)\n",
    "df['platelets'].head()"
   ]
  },
  {
   "cell_type": "markdown",
   "id": "967bc445",
   "metadata": {},
   "source": [
    "Another strage pattern that was observed is that there are `25` intances where seperate patients have the exact same platelet count of `263.36 kiloplatelets/mL`."
   ]
  },
  {
   "cell_type": "code",
   "execution_count": 12,
   "id": "50886ee5",
   "metadata": {},
   "outputs": [
    {
     "data": {
      "text/plain": [
       "263.36    25\n",
       "255.00     4\n",
       "237.00     4\n",
       "271.00     4\n",
       "228.00     4\n",
       "          ..\n",
       "155.00     1\n",
       "257.00     1\n",
       "309.00     1\n",
       "461.00     1\n",
       "336.00     1\n",
       "Name: platelets, Length: 176, dtype: int64"
      ]
     },
     "execution_count": 12,
     "metadata": {},
     "output_type": "execute_result"
    }
   ],
   "source": [
    "df['platelets'].value_counts()"
   ]
  },
  {
   "cell_type": "markdown",
   "id": "e5ebcdb2",
   "metadata": {},
   "source": [
    "This is highly obscure and most likely an error with the data set, either with input or otherwise. These patients also display no other correlations, and as such, their observations must be removed from the database in order to ensure the modelling proccess is not given misleading data.\n",
    "\n",
    "As far as I can tell, this anomaly has been overlooked by the <a href=\"https://bmcmedinformdecismak.biomedcentral.com/articles/10.1186/s12911-020-1023-5\">original document</a>."
   ]
  },
  {
   "cell_type": "code",
   "execution_count": 13,
   "id": "d2f70486",
   "metadata": {
    "scrolled": false
   },
   "outputs": [
    {
     "data": {
      "text/html": [
       "<div>\n",
       "<style scoped>\n",
       "    .dataframe tbody tr th:only-of-type {\n",
       "        vertical-align: middle;\n",
       "    }\n",
       "\n",
       "    .dataframe tbody tr th {\n",
       "        vertical-align: top;\n",
       "    }\n",
       "\n",
       "    .dataframe thead th {\n",
       "        text-align: right;\n",
       "    }\n",
       "</style>\n",
       "<table border=\"1\" class=\"dataframe\">\n",
       "  <thead>\n",
       "    <tr style=\"text-align: right;\">\n",
       "      <th></th>\n",
       "      <th>age</th>\n",
       "      <th>anaemia</th>\n",
       "      <th>creatinine_phosphokinase</th>\n",
       "      <th>diabetes</th>\n",
       "      <th>ejection_fraction</th>\n",
       "      <th>high_blood_pressure</th>\n",
       "      <th>platelets</th>\n",
       "      <th>serum_creatinine</th>\n",
       "      <th>serum_sodium</th>\n",
       "      <th>sex</th>\n",
       "      <th>smoking</th>\n",
       "      <th>time</th>\n",
       "      <th>DEATH_EVENT</th>\n",
       "    </tr>\n",
       "  </thead>\n",
       "  <tbody>\n",
       "    <tr>\n",
       "      <th>1</th>\n",
       "      <td>55</td>\n",
       "      <td>0</td>\n",
       "      <td>7861</td>\n",
       "      <td>0</td>\n",
       "      <td>38</td>\n",
       "      <td>0</td>\n",
       "      <td>263.36</td>\n",
       "      <td>1.10</td>\n",
       "      <td>136</td>\n",
       "      <td>1</td>\n",
       "      <td>0</td>\n",
       "      <td>6</td>\n",
       "      <td>1</td>\n",
       "    </tr>\n",
       "    <tr>\n",
       "      <th>8</th>\n",
       "      <td>65</td>\n",
       "      <td>0</td>\n",
       "      <td>157</td>\n",
       "      <td>0</td>\n",
       "      <td>65</td>\n",
       "      <td>0</td>\n",
       "      <td>263.36</td>\n",
       "      <td>1.50</td>\n",
       "      <td>138</td>\n",
       "      <td>0</td>\n",
       "      <td>0</td>\n",
       "      <td>10</td>\n",
       "      <td>1</td>\n",
       "    </tr>\n",
       "    <tr>\n",
       "      <th>24</th>\n",
       "      <td>75</td>\n",
       "      <td>0</td>\n",
       "      <td>582</td>\n",
       "      <td>1</td>\n",
       "      <td>30</td>\n",
       "      <td>1</td>\n",
       "      <td>263.36</td>\n",
       "      <td>1.83</td>\n",
       "      <td>134</td>\n",
       "      <td>0</td>\n",
       "      <td>0</td>\n",
       "      <td>23</td>\n",
       "      <td>1</td>\n",
       "    </tr>\n",
       "    <tr>\n",
       "      <th>30</th>\n",
       "      <td>94</td>\n",
       "      <td>0</td>\n",
       "      <td>582</td>\n",
       "      <td>1</td>\n",
       "      <td>38</td>\n",
       "      <td>1</td>\n",
       "      <td>263.36</td>\n",
       "      <td>1.83</td>\n",
       "      <td>134</td>\n",
       "      <td>1</td>\n",
       "      <td>0</td>\n",
       "      <td>27</td>\n",
       "      <td>1</td>\n",
       "    </tr>\n",
       "    <tr>\n",
       "      <th>40</th>\n",
       "      <td>70</td>\n",
       "      <td>0</td>\n",
       "      <td>582</td>\n",
       "      <td>0</td>\n",
       "      <td>20</td>\n",
       "      <td>1</td>\n",
       "      <td>263.36</td>\n",
       "      <td>1.83</td>\n",
       "      <td>134</td>\n",
       "      <td>1</td>\n",
       "      <td>1</td>\n",
       "      <td>31</td>\n",
       "      <td>1</td>\n",
       "    </tr>\n",
       "  </tbody>\n",
       "</table>\n",
       "</div>"
      ],
      "text/plain": [
       "    age  anaemia  creatinine_phosphokinase  diabetes  ejection_fraction  \\\n",
       "1    55        0                      7861         0                 38   \n",
       "8    65        0                       157         0                 65   \n",
       "24   75        0                       582         1                 30   \n",
       "30   94        0                       582         1                 38   \n",
       "40   70        0                       582         0                 20   \n",
       "\n",
       "    high_blood_pressure  platelets  serum_creatinine  serum_sodium  sex  \\\n",
       "1                     0     263.36              1.10           136    1   \n",
       "8                     0     263.36              1.50           138    0   \n",
       "24                    1     263.36              1.83           134    0   \n",
       "30                    1     263.36              1.83           134    1   \n",
       "40                    1     263.36              1.83           134    1   \n",
       "\n",
       "    smoking  time  DEATH_EVENT  \n",
       "1         0     6            1  \n",
       "8         0    10            1  \n",
       "24        0    23            1  \n",
       "30        0    27            1  \n",
       "40        1    31            1  "
      ]
     },
     "execution_count": 13,
     "metadata": {},
     "output_type": "execute_result"
    }
   ],
   "source": [
    "df[df['platelets'] == 263.36].head()"
   ]
  },
  {
   "cell_type": "code",
   "execution_count": 14,
   "id": "ac972618",
   "metadata": {},
   "outputs": [
    {
     "data": {
      "text/plain": [
       "0"
      ]
     },
     "execution_count": 14,
     "metadata": {},
     "output_type": "execute_result"
    }
   ],
   "source": [
    "df = df[df['platelets'] != 263.36].reset_index(drop=True)\n",
    "df[df['platelets'] == 263.36]['platelets'].count()"
   ]
  },
  {
   "cell_type": "code",
   "execution_count": 15,
   "id": "5bd8e329",
   "metadata": {},
   "outputs": [
    {
     "name": "stdout",
     "output_type": "stream",
     "text": [
      "The dataset now contains 274 patients.\n"
     ]
    }
   ],
   "source": [
    "print(f\"The dataset now contains {df.shape[0]} patients.\")"
   ]
  },
  {
   "cell_type": "markdown",
   "id": "8d7688a9",
   "metadata": {},
   "source": [
    "Similarly, the CPK feature contains `34` instances where the patient's reading is `582 mcg/L`. "
   ]
  },
  {
   "cell_type": "code",
   "execution_count": 16,
   "id": "acb15087",
   "metadata": {},
   "outputs": [
    {
     "data": {
      "text/plain": [
       "582     34\n",
       "66       4\n",
       "129      4\n",
       "47       3\n",
       "115      3\n",
       "        ..\n",
       "149      1\n",
       "151      1\n",
       "154      1\n",
       "156      1\n",
       "1021     1\n",
       "Name: creatinine_phosphokinase, Length: 197, dtype: int64"
      ]
     },
     "execution_count": 16,
     "metadata": {},
     "output_type": "execute_result"
    }
   ],
   "source": [
    "df['creatinine_phosphokinase'].value_counts()"
   ]
  },
  {
   "cell_type": "markdown",
   "id": "74af97ad",
   "metadata": {},
   "source": [
    "This is highly unlikely due to the measurement type being a highly variable statistic. It is again assumed to be erroneous and will be removed from the dataset."
   ]
  },
  {
   "cell_type": "code",
   "execution_count": 17,
   "id": "a698dc05",
   "metadata": {},
   "outputs": [
    {
     "data": {
      "text/html": [
       "<div>\n",
       "<style scoped>\n",
       "    .dataframe tbody tr th:only-of-type {\n",
       "        vertical-align: middle;\n",
       "    }\n",
       "\n",
       "    .dataframe tbody tr th {\n",
       "        vertical-align: top;\n",
       "    }\n",
       "\n",
       "    .dataframe thead th {\n",
       "        text-align: right;\n",
       "    }\n",
       "</style>\n",
       "<table border=\"1\" class=\"dataframe\">\n",
       "  <thead>\n",
       "    <tr style=\"text-align: right;\">\n",
       "      <th></th>\n",
       "      <th>age</th>\n",
       "      <th>anaemia</th>\n",
       "      <th>creatinine_phosphokinase</th>\n",
       "      <th>diabetes</th>\n",
       "      <th>ejection_fraction</th>\n",
       "      <th>high_blood_pressure</th>\n",
       "      <th>platelets</th>\n",
       "      <th>serum_creatinine</th>\n",
       "      <th>serum_sodium</th>\n",
       "      <th>sex</th>\n",
       "      <th>smoking</th>\n",
       "      <th>time</th>\n",
       "      <th>DEATH_EVENT</th>\n",
       "    </tr>\n",
       "  </thead>\n",
       "  <tbody>\n",
       "    <tr>\n",
       "      <th>0</th>\n",
       "      <td>75</td>\n",
       "      <td>0</td>\n",
       "      <td>582</td>\n",
       "      <td>0</td>\n",
       "      <td>20</td>\n",
       "      <td>1</td>\n",
       "      <td>265.0</td>\n",
       "      <td>1.9</td>\n",
       "      <td>130</td>\n",
       "      <td>1</td>\n",
       "      <td>0</td>\n",
       "      <td>4</td>\n",
       "      <td>1</td>\n",
       "    </tr>\n",
       "    <tr>\n",
       "      <th>15</th>\n",
       "      <td>45</td>\n",
       "      <td>0</td>\n",
       "      <td>582</td>\n",
       "      <td>0</td>\n",
       "      <td>14</td>\n",
       "      <td>0</td>\n",
       "      <td>166.0</td>\n",
       "      <td>0.8</td>\n",
       "      <td>127</td>\n",
       "      <td>1</td>\n",
       "      <td>0</td>\n",
       "      <td>14</td>\n",
       "      <td>1</td>\n",
       "    </tr>\n",
       "    <tr>\n",
       "      <th>17</th>\n",
       "      <td>48</td>\n",
       "      <td>1</td>\n",
       "      <td>582</td>\n",
       "      <td>1</td>\n",
       "      <td>55</td>\n",
       "      <td>0</td>\n",
       "      <td>87.0</td>\n",
       "      <td>1.9</td>\n",
       "      <td>121</td>\n",
       "      <td>0</td>\n",
       "      <td>0</td>\n",
       "      <td>15</td>\n",
       "      <td>1</td>\n",
       "    </tr>\n",
       "    <tr>\n",
       "      <th>31</th>\n",
       "      <td>69</td>\n",
       "      <td>0</td>\n",
       "      <td>582</td>\n",
       "      <td>1</td>\n",
       "      <td>35</td>\n",
       "      <td>0</td>\n",
       "      <td>228.0</td>\n",
       "      <td>3.5</td>\n",
       "      <td>134</td>\n",
       "      <td>1</td>\n",
       "      <td>0</td>\n",
       "      <td>30</td>\n",
       "      <td>1</td>\n",
       "    </tr>\n",
       "    <tr>\n",
       "      <th>40</th>\n",
       "      <td>50</td>\n",
       "      <td>0</td>\n",
       "      <td>582</td>\n",
       "      <td>1</td>\n",
       "      <td>38</td>\n",
       "      <td>0</td>\n",
       "      <td>310.0</td>\n",
       "      <td>1.9</td>\n",
       "      <td>135</td>\n",
       "      <td>1</td>\n",
       "      <td>1</td>\n",
       "      <td>35</td>\n",
       "      <td>1</td>\n",
       "    </tr>\n",
       "  </tbody>\n",
       "</table>\n",
       "</div>"
      ],
      "text/plain": [
       "    age  anaemia  creatinine_phosphokinase  diabetes  ejection_fraction  \\\n",
       "0    75        0                       582         0                 20   \n",
       "15   45        0                       582         0                 14   \n",
       "17   48        1                       582         1                 55   \n",
       "31   69        0                       582         1                 35   \n",
       "40   50        0                       582         1                 38   \n",
       "\n",
       "    high_blood_pressure  platelets  serum_creatinine  serum_sodium  sex  \\\n",
       "0                     1      265.0               1.9           130    1   \n",
       "15                    0      166.0               0.8           127    1   \n",
       "17                    0       87.0               1.9           121    0   \n",
       "31                    0      228.0               3.5           134    1   \n",
       "40                    0      310.0               1.9           135    1   \n",
       "\n",
       "    smoking  time  DEATH_EVENT  \n",
       "0         0     4            1  \n",
       "15        0    14            1  \n",
       "17        0    15            1  \n",
       "31        0    30            1  \n",
       "40        1    35            1  "
      ]
     },
     "execution_count": 17,
     "metadata": {},
     "output_type": "execute_result"
    }
   ],
   "source": [
    "df[df['creatinine_phosphokinase'] == 582].head()"
   ]
  },
  {
   "cell_type": "code",
   "execution_count": 18,
   "id": "4906f4a4",
   "metadata": {},
   "outputs": [
    {
     "data": {
      "text/plain": [
       "0"
      ]
     },
     "execution_count": 18,
     "metadata": {},
     "output_type": "execute_result"
    }
   ],
   "source": [
    "df = df[df['creatinine_phosphokinase'] != 582].reset_index(drop=True)\n",
    "df[df['creatinine_phosphokinase'] == 582]['creatinine_phosphokinase'].count()"
   ]
  },
  {
   "cell_type": "code",
   "execution_count": 19,
   "id": "11a1ac57",
   "metadata": {},
   "outputs": [
    {
     "name": "stdout",
     "output_type": "stream",
     "text": [
      "The dataset now contains 240 patients.\n"
     ]
    }
   ],
   "source": [
    "print(f\"The dataset now contains {df.shape[0]} patients.\")"
   ]
  },
  {
   "cell_type": "markdown",
   "id": "32c3d22f",
   "metadata": {},
   "source": [
    "## Pre-Processing"
   ]
  },
  {
   "cell_type": "markdown",
   "id": "7182bea7",
   "metadata": {},
   "source": [
    "This section will primarily focus on pre-processing the binary features of the dataset to improve the data exploration section. Before continuing, we will make a copy of the dataframe in its current state such that it can be used for the modelling process later. The features in question are `'anaemia'`, `'diabetes'`, `'high_blood_pressure'`, `'smoking'`, and `'DEATH_EVENT'`.These variables describe a boolean value, where `0` is `false` and `1` is `true`. Another binary variable in this dataset describes `'sex'` as either a `0` or a `1`, however which gender each number signifies is unfortunately not defined in either the <a href=\"https://archive.ics.uci.edu/ml/datasets/Heart+failure+clinical+records\">UCI Repository</a> nor <a href=\"https://bmcmedinformdecismak.biomedcentral.com/articles/10.1186/s12911-020-1023-5\">the data's source document</a>."
   ]
  },
  {
   "cell_type": "markdown",
   "id": "8932b071",
   "metadata": {},
   "source": [
    "These variable values, other than those given in `'sex'`, will now be given a more descriptive name."
   ]
  },
  {
   "cell_type": "code",
   "execution_count": 20,
   "id": "6f095c62",
   "metadata": {},
   "outputs": [
    {
     "data": {
      "text/html": [
       "<div>\n",
       "<style scoped>\n",
       "    .dataframe tbody tr th:only-of-type {\n",
       "        vertical-align: middle;\n",
       "    }\n",
       "\n",
       "    .dataframe tbody tr th {\n",
       "        vertical-align: top;\n",
       "    }\n",
       "\n",
       "    .dataframe thead th {\n",
       "        text-align: right;\n",
       "    }\n",
       "</style>\n",
       "<table border=\"1\" class=\"dataframe\">\n",
       "  <thead>\n",
       "    <tr style=\"text-align: right;\">\n",
       "      <th></th>\n",
       "      <th>anaemia</th>\n",
       "      <th>diabetes</th>\n",
       "      <th>high_blood_pressure</th>\n",
       "      <th>smoking</th>\n",
       "      <th>DEATH_EVENT</th>\n",
       "    </tr>\n",
       "  </thead>\n",
       "  <tbody>\n",
       "    <tr>\n",
       "      <th>0</th>\n",
       "      <td>0</td>\n",
       "      <td>0</td>\n",
       "      <td>0</td>\n",
       "      <td>1</td>\n",
       "      <td>1</td>\n",
       "    </tr>\n",
       "    <tr>\n",
       "      <th>1</th>\n",
       "      <td>1</td>\n",
       "      <td>0</td>\n",
       "      <td>0</td>\n",
       "      <td>0</td>\n",
       "      <td>1</td>\n",
       "    </tr>\n",
       "    <tr>\n",
       "      <th>2</th>\n",
       "      <td>1</td>\n",
       "      <td>1</td>\n",
       "      <td>0</td>\n",
       "      <td>0</td>\n",
       "      <td>1</td>\n",
       "    </tr>\n",
       "    <tr>\n",
       "      <th>3</th>\n",
       "      <td>1</td>\n",
       "      <td>0</td>\n",
       "      <td>1</td>\n",
       "      <td>1</td>\n",
       "      <td>1</td>\n",
       "    </tr>\n",
       "    <tr>\n",
       "      <th>4</th>\n",
       "      <td>1</td>\n",
       "      <td>0</td>\n",
       "      <td>0</td>\n",
       "      <td>0</td>\n",
       "      <td>1</td>\n",
       "    </tr>\n",
       "    <tr>\n",
       "      <th>...</th>\n",
       "      <td>...</td>\n",
       "      <td>...</td>\n",
       "      <td>...</td>\n",
       "      <td>...</td>\n",
       "      <td>...</td>\n",
       "    </tr>\n",
       "    <tr>\n",
       "      <th>235</th>\n",
       "      <td>0</td>\n",
       "      <td>1</td>\n",
       "      <td>1</td>\n",
       "      <td>1</td>\n",
       "      <td>0</td>\n",
       "    </tr>\n",
       "    <tr>\n",
       "      <th>236</th>\n",
       "      <td>0</td>\n",
       "      <td>0</td>\n",
       "      <td>0</td>\n",
       "      <td>0</td>\n",
       "      <td>0</td>\n",
       "    </tr>\n",
       "    <tr>\n",
       "      <th>237</th>\n",
       "      <td>0</td>\n",
       "      <td>1</td>\n",
       "      <td>0</td>\n",
       "      <td>0</td>\n",
       "      <td>0</td>\n",
       "    </tr>\n",
       "    <tr>\n",
       "      <th>238</th>\n",
       "      <td>0</td>\n",
       "      <td>0</td>\n",
       "      <td>0</td>\n",
       "      <td>1</td>\n",
       "      <td>0</td>\n",
       "    </tr>\n",
       "    <tr>\n",
       "      <th>239</th>\n",
       "      <td>0</td>\n",
       "      <td>0</td>\n",
       "      <td>0</td>\n",
       "      <td>1</td>\n",
       "      <td>0</td>\n",
       "    </tr>\n",
       "  </tbody>\n",
       "</table>\n",
       "<p>240 rows × 5 columns</p>\n",
       "</div>"
      ],
      "text/plain": [
       "     anaemia  diabetes  high_blood_pressure  smoking  DEATH_EVENT\n",
       "0          0         0                    0        1            1\n",
       "1          1         0                    0        0            1\n",
       "2          1         1                    0        0            1\n",
       "3          1         0                    1        1            1\n",
       "4          1         0                    0        0            1\n",
       "..       ...       ...                  ...      ...          ...\n",
       "235        0         1                    1        1            0\n",
       "236        0         0                    0        0            0\n",
       "237        0         1                    0        0            0\n",
       "238        0         0                    0        1            0\n",
       "239        0         0                    0        1            0\n",
       "\n",
       "[240 rows x 5 columns]"
      ]
     },
     "execution_count": 20,
     "metadata": {},
     "output_type": "execute_result"
    }
   ],
   "source": [
    "df_before_pp = df.copy()\n",
    "df[['anaemia', 'diabetes', 'high_blood_pressure', 'smoking', 'DEATH_EVENT']]"
   ]
  },
  {
   "cell_type": "code",
   "execution_count": 21,
   "id": "47c8ede1",
   "metadata": {},
   "outputs": [
    {
     "data": {
      "text/html": [
       "<div>\n",
       "<style scoped>\n",
       "    .dataframe tbody tr th:only-of-type {\n",
       "        vertical-align: middle;\n",
       "    }\n",
       "\n",
       "    .dataframe tbody tr th {\n",
       "        vertical-align: top;\n",
       "    }\n",
       "\n",
       "    .dataframe thead th {\n",
       "        text-align: right;\n",
       "    }\n",
       "</style>\n",
       "<table border=\"1\" class=\"dataframe\">\n",
       "  <thead>\n",
       "    <tr style=\"text-align: right;\">\n",
       "      <th></th>\n",
       "      <th>anaemia</th>\n",
       "      <th>diabetes</th>\n",
       "      <th>high_blood_pressure</th>\n",
       "      <th>smoking</th>\n",
       "      <th>DEATH_EVENT</th>\n",
       "    </tr>\n",
       "  </thead>\n",
       "  <tbody>\n",
       "    <tr>\n",
       "      <th>0</th>\n",
       "      <td>normal</td>\n",
       "      <td>normal</td>\n",
       "      <td>normal</td>\n",
       "      <td>smoker</td>\n",
       "      <td>dead</td>\n",
       "    </tr>\n",
       "    <tr>\n",
       "      <th>1</th>\n",
       "      <td>anaemic</td>\n",
       "      <td>normal</td>\n",
       "      <td>normal</td>\n",
       "      <td>non-smoker</td>\n",
       "      <td>dead</td>\n",
       "    </tr>\n",
       "    <tr>\n",
       "      <th>2</th>\n",
       "      <td>anaemic</td>\n",
       "      <td>diabetic</td>\n",
       "      <td>normal</td>\n",
       "      <td>non-smoker</td>\n",
       "      <td>dead</td>\n",
       "    </tr>\n",
       "    <tr>\n",
       "      <th>3</th>\n",
       "      <td>anaemic</td>\n",
       "      <td>normal</td>\n",
       "      <td>hypertensive</td>\n",
       "      <td>smoker</td>\n",
       "      <td>dead</td>\n",
       "    </tr>\n",
       "    <tr>\n",
       "      <th>4</th>\n",
       "      <td>anaemic</td>\n",
       "      <td>normal</td>\n",
       "      <td>normal</td>\n",
       "      <td>non-smoker</td>\n",
       "      <td>dead</td>\n",
       "    </tr>\n",
       "    <tr>\n",
       "      <th>...</th>\n",
       "      <td>...</td>\n",
       "      <td>...</td>\n",
       "      <td>...</td>\n",
       "      <td>...</td>\n",
       "      <td>...</td>\n",
       "    </tr>\n",
       "    <tr>\n",
       "      <th>235</th>\n",
       "      <td>normal</td>\n",
       "      <td>diabetic</td>\n",
       "      <td>hypertensive</td>\n",
       "      <td>smoker</td>\n",
       "      <td>alive</td>\n",
       "    </tr>\n",
       "    <tr>\n",
       "      <th>236</th>\n",
       "      <td>normal</td>\n",
       "      <td>normal</td>\n",
       "      <td>normal</td>\n",
       "      <td>non-smoker</td>\n",
       "      <td>alive</td>\n",
       "    </tr>\n",
       "    <tr>\n",
       "      <th>237</th>\n",
       "      <td>normal</td>\n",
       "      <td>diabetic</td>\n",
       "      <td>normal</td>\n",
       "      <td>non-smoker</td>\n",
       "      <td>alive</td>\n",
       "    </tr>\n",
       "    <tr>\n",
       "      <th>238</th>\n",
       "      <td>normal</td>\n",
       "      <td>normal</td>\n",
       "      <td>normal</td>\n",
       "      <td>smoker</td>\n",
       "      <td>alive</td>\n",
       "    </tr>\n",
       "    <tr>\n",
       "      <th>239</th>\n",
       "      <td>normal</td>\n",
       "      <td>normal</td>\n",
       "      <td>normal</td>\n",
       "      <td>smoker</td>\n",
       "      <td>alive</td>\n",
       "    </tr>\n",
       "  </tbody>\n",
       "</table>\n",
       "<p>240 rows × 5 columns</p>\n",
       "</div>"
      ],
      "text/plain": [
       "     anaemia  diabetes high_blood_pressure     smoking DEATH_EVENT\n",
       "0     normal    normal              normal      smoker        dead\n",
       "1    anaemic    normal              normal  non-smoker        dead\n",
       "2    anaemic  diabetic              normal  non-smoker        dead\n",
       "3    anaemic    normal        hypertensive      smoker        dead\n",
       "4    anaemic    normal              normal  non-smoker        dead\n",
       "..       ...       ...                 ...         ...         ...\n",
       "235   normal  diabetic        hypertensive      smoker       alive\n",
       "236   normal    normal              normal  non-smoker       alive\n",
       "237   normal  diabetic              normal  non-smoker       alive\n",
       "238   normal    normal              normal      smoker       alive\n",
       "239   normal    normal              normal      smoker       alive\n",
       "\n",
       "[240 rows x 5 columns]"
      ]
     },
     "execution_count": 21,
     "metadata": {},
     "output_type": "execute_result"
    }
   ],
   "source": [
    "df[['anaemia', 'diabetes', 'high_blood_pressure', 'smoking', 'DEATH_EVENT']] = df[['anaemia', 'diabetes', 'high_blood_pressure', 'smoking', 'DEATH_EVENT']].astype(\"bool\")\n",
    "\n",
    "# Create categories\n",
    "cat_anaemia   = ['anaemic', 'normal']\n",
    "cat_diabetes  = ['diabetic', 'normal']\n",
    "cat_hbp       = ['hypertensive', 'normal']\n",
    "cat_smoking   = ['smoker', 'non-smoker']\n",
    "cat_death     = ['dead', 'alive']\n",
    "\n",
    "# Apply categories\n",
    "df['anaemia'] = np.select([df['anaemia'] == True, df['anaemia'] == False], cat_anaemia)\n",
    "df['diabetes'] = np.select([df['diabetes'] == True, df['diabetes'] == False], cat_diabetes)\n",
    "df['high_blood_pressure'] = np.select([df['high_blood_pressure'] == True, df['high_blood_pressure'] == False], cat_hbp)\n",
    "df['smoking'] = np.select([df['smoking'] == True, df['smoking'] == False], cat_smoking)\n",
    "df['DEATH_EVENT'] = np.select([df['DEATH_EVENT'] == True, df['DEATH_EVENT'] == False], cat_death)\n",
    "\n",
    "# Additionally apply DEATH_EVENT category to df_before_pp\n",
    "df_before_pp['DEATH_EVENT'] = np.select([df_before_pp['DEATH_EVENT'] == 1, df_before_pp['DEATH_EVENT'] == 0], cat_death)\n",
    "\n",
    "df[['anaemia', 'diabetes', 'high_blood_pressure', 'smoking', 'DEATH_EVENT']]"
   ]
  },
  {
   "cell_type": "markdown",
   "id": "2e766d6f",
   "metadata": {},
   "source": [
    "In this section, for simplicity we will also divide the `'age'` feature into two classifications as seperated by the median age: `'middleage': 40-59` and `'elderly': 60+`."
   ]
  },
  {
   "cell_type": "code",
   "execution_count": 22,
   "id": "48cdd35e",
   "metadata": {
    "scrolled": true
   },
   "outputs": [
    {
     "name": "stdout",
     "output_type": "stream",
     "text": [
      "The median age for this dataset is 60.\n"
     ]
    }
   ],
   "source": [
    "print(f\"The median age for this dataset is {df['age'].median().astype('int')}.\")"
   ]
  },
  {
   "cell_type": "code",
   "execution_count": 23,
   "id": "bef96655",
   "metadata": {
    "scrolled": true
   },
   "outputs": [
    {
     "data": {
      "text/html": [
       "<div>\n",
       "<style scoped>\n",
       "    .dataframe tbody tr th:only-of-type {\n",
       "        vertical-align: middle;\n",
       "    }\n",
       "\n",
       "    .dataframe tbody tr th {\n",
       "        vertical-align: top;\n",
       "    }\n",
       "\n",
       "    .dataframe thead th {\n",
       "        text-align: right;\n",
       "    }\n",
       "</style>\n",
       "<table border=\"1\" class=\"dataframe\">\n",
       "  <thead>\n",
       "    <tr style=\"text-align: right;\">\n",
       "      <th></th>\n",
       "      <th>age</th>\n",
       "    </tr>\n",
       "  </thead>\n",
       "  <tbody>\n",
       "    <tr>\n",
       "      <th>0</th>\n",
       "      <td>elderly</td>\n",
       "    </tr>\n",
       "    <tr>\n",
       "      <th>1</th>\n",
       "      <td>middleage</td>\n",
       "    </tr>\n",
       "    <tr>\n",
       "      <th>2</th>\n",
       "      <td>elderly</td>\n",
       "    </tr>\n",
       "    <tr>\n",
       "      <th>3</th>\n",
       "      <td>elderly</td>\n",
       "    </tr>\n",
       "    <tr>\n",
       "      <th>4</th>\n",
       "      <td>elderly</td>\n",
       "    </tr>\n",
       "  </tbody>\n",
       "</table>\n",
       "</div>"
      ],
      "text/plain": [
       "         age\n",
       "0    elderly\n",
       "1  middleage\n",
       "2    elderly\n",
       "3    elderly\n",
       "4    elderly"
      ]
     },
     "execution_count": 23,
     "metadata": {},
     "output_type": "execute_result"
    }
   ],
   "source": [
    "conditions = [df['age'] < df['age'].median(), df['age'] >= df['age'].median()]\n",
    "category = [\"middleage\", \"elderly\"]\n",
    "\n",
    "df['age'] = np.select(conditions, category)\n",
    "df[['age']].head()"
   ]
  },
  {
   "cell_type": "markdown",
   "id": "cbb1fd0a",
   "metadata": {},
   "source": [
    "Now that the dataset and dataframe is clean and preprocessed, we are ready for investigation."
   ]
  },
  {
   "cell_type": "markdown",
   "id": "23b6c2e7",
   "metadata": {},
   "source": [
    "# Data Exploration"
   ]
  },
  {
   "cell_type": "code",
   "execution_count": 24,
   "id": "60b98ef9",
   "metadata": {},
   "outputs": [],
   "source": [
    "# Adjust font size here\n",
    "font = {'size'   : 22}\n",
    "plt.rc('font', **font)"
   ]
  },
  {
   "cell_type": "code",
   "execution_count": 25,
   "id": "b9484259",
   "metadata": {},
   "outputs": [
    {
     "data": {
      "image/png": "[encoded data removed]",
      "text/plain": [
       "<Figure size 1224x720 with 1 Axes>"
      ]
     },
     "metadata": {
      "needs_background": "light"
     },
     "output_type": "display_data"
    }
   ],
   "source": [
    "fig01, ax01 = plt.subplots()\n",
    "\n",
    "ax01.bar(df['age'].unique(), df['age'].value_counts())\n",
    "\n",
    "plt.title(\"fig.1 Age Classification Distribution of Dataset\")\n",
    "plt.ylabel(\"Count\")\n",
    "fig01.set_size_inches(17, 10)\n",
    "plt.show()"
   ]
  },
  {
   "cell_type": "code",
   "execution_count": 26,
   "id": "aeea827b",
   "metadata": {},
   "outputs": [
    {
     "data": {
      "text/plain": [
       "elderly      141\n",
       "middleage     99\n",
       "Name: age, dtype: int64"
      ]
     },
     "execution_count": 26,
     "metadata": {},
     "output_type": "execute_result"
    }
   ],
   "source": [
    "df['age'].value_counts()"
   ]
  },
  {
   "cell_type": "markdown",
   "id": "c7fd323f",
   "metadata": {},
   "source": [
    "There are significantly more elderly patients in this dataset than middleaged patients."
   ]
  },
  {
   "cell_type": "code",
   "execution_count": 27,
   "id": "960fe260",
   "metadata": {
    "scrolled": false
   },
   "outputs": [
    {
     "data": {
      "image/png": "[encoded data removed]",
      "text/plain": [
       "<Figure size 1224x720 with 1 Axes>"
      ]
     },
     "metadata": {
      "needs_background": "light"
     },
     "output_type": "display_data"
    }
   ],
   "source": [
    "fig02, ax02 = plt.subplots()\n",
    "\n",
    "ax02.bar(df['anaemia'].unique(), df['anaemia'].value_counts())\n",
    "\n",
    "plt.title(\"fig.2 Anaemic Patient Distribution of Dataset\")\n",
    "plt.ylabel(\"Count\")\n",
    "fig02.set_size_inches(17, 10)\n",
    "plt.show()"
   ]
  },
  {
   "cell_type": "code",
   "execution_count": 28,
   "id": "bf90ce6f",
   "metadata": {},
   "outputs": [
    {
     "data": {
      "text/plain": [
       "normal     120\n",
       "anaemic    120\n",
       "Name: anaemia, dtype: int64"
      ]
     },
     "execution_count": 28,
     "metadata": {},
     "output_type": "execute_result"
    }
   ],
   "source": [
    "df['anaemia'].value_counts()"
   ]
  },
  {
   "cell_type": "markdown",
   "id": "0ef286fa",
   "metadata": {},
   "source": [
    "Exactly 50% of patients in the dataset suffer from anaemia. This is nearly twice the expected world average, which is said to be anywhere from 25%\n",
    "{<a href=\"https://www.ekfdiagnostics.com/who-has-the-highest-risk-of-developing-anemia.html#:~:text=Anemia%2C%20a%20disorder%20characterized%20by,or%201.6%20billion%20people%20worldwide.\">ekfdiagnostics.com</a>} \n",
    "to 30% {<a href=\"https://my.clevelandclinic.org/health/diseases/3929-anemia\">clevelandclinic.org</a>}."
   ]
  },
  {
   "cell_type": "code",
   "execution_count": 29,
   "id": "7e77a1a0",
   "metadata": {},
   "outputs": [
    {
     "data": {
      "image/png": "[encoded data removed]",
      "text/plain": [
       "<Figure size 1224x720 with 1 Axes>"
      ]
     },
     "metadata": {
      "needs_background": "light"
     },
     "output_type": "display_data"
    }
   ],
   "source": [
    "fig03, ax03 = plt.subplots()\n",
    "\n",
    "ax03.bar(df['high_blood_pressure'].unique(), df['high_blood_pressure'].value_counts())\n",
    "\n",
    "plt.title(\"fig.3 Hypertensive Patient Distribution of Dataset\")\n",
    "plt.ylabel(\"Count\")\n",
    "fig03.set_size_inches(17, 10)\n",
    "plt.show()"
   ]
  },
  {
   "cell_type": "code",
   "execution_count": 30,
   "id": "e6003e68",
   "metadata": {},
   "outputs": [
    {
     "data": {
      "text/plain": [
       "normal          152\n",
       "hypertensive     88\n",
       "Name: high_blood_pressure, dtype: int64"
      ]
     },
     "execution_count": 30,
     "metadata": {},
     "output_type": "execute_result"
    }
   ],
   "source": [
    "df['high_blood_pressure'].value_counts()"
   ]
  },
  {
   "cell_type": "code",
   "execution_count": 31,
   "id": "bfc92a11",
   "metadata": {},
   "outputs": [
    {
     "data": {
      "image/png": "[encoded data removed]",
      "text/plain": [
       "<Figure size 1224x720 with 1 Axes>"
      ]
     },
     "metadata": {
      "needs_background": "light"
     },
     "output_type": "display_data"
    }
   ],
   "source": [
    "fig04, ax04 = plt.subplots()\n",
    "\n",
    "ax04.bar(df['diabetes'].unique(), df['diabetes'].value_counts())\n",
    "\n",
    "plt.title(\"fig.4 Diabetes Patient Distribution of Dataset\")\n",
    "plt.ylabel(\"Count\")\n",
    "fig04.set_size_inches(17, 10)\n",
    "plt.show()"
   ]
  },
  {
   "cell_type": "code",
   "execution_count": 32,
   "id": "fe453633",
   "metadata": {},
   "outputs": [
    {
     "data": {
      "image/png": "[encoded data removed]",
      "text/plain": [
       "<Figure size 1224x720 with 1 Axes>"
      ]
     },
     "metadata": {
      "needs_background": "light"
     },
     "output_type": "display_data"
    }
   ],
   "source": [
    "fig05, ax05 = plt.subplots()\n",
    "\n",
    "ax05.bar([str(i) for i in df['sex'].unique()], df['sex'].value_counts())\n",
    "\n",
    "plt.title(\"fig.5 Patient Gender Distribution of Dataset\")\n",
    "plt.ylabel(\"Count\")\n",
    "fig05.set_size_inches(17, 10)\n",
    "plt.show()"
   ]
  },
  {
   "cell_type": "markdown",
   "id": "9c34155d",
   "metadata": {},
   "source": [
    "There is significantly more of one gender in this dataset than the other, yet once again, we cannot know for sure which gender is which as it is not mentioned in the sources."
   ]
  },
  {
   "cell_type": "code",
   "execution_count": 33,
   "id": "cd653962",
   "metadata": {},
   "outputs": [
    {
     "data": {
      "image/png": "[encoded data removed]",
      "text/plain": [
       "<Figure size 1224x720 with 1 Axes>"
      ]
     },
     "metadata": {
      "needs_background": "light"
     },
     "output_type": "display_data"
    }
   ],
   "source": [
    "fig06, ax06 = plt.subplots()\n",
    "\n",
    "ax06.bar(df['DEATH_EVENT'].unique(), df['DEATH_EVENT'].value_counts())\n",
    "\n",
    "plt.title(\"fig.6 Patient Death Distribution of Dataset\")\n",
    "plt.ylabel(\"Count\")\n",
    "fig06.set_size_inches(17, 10)\n",
    "plt.show()"
   ]
  },
  {
   "cell_type": "code",
   "execution_count": 34,
   "id": "514265ab",
   "metadata": {
    "scrolled": false
   },
   "outputs": [
    {
     "data": {
      "image/png": "[encoded data removed]",
      "text/plain": [
       "<Figure size 1224x720 with 1 Axes>"
      ]
     },
     "metadata": {
      "needs_background": "light"
     },
     "output_type": "display_data"
    }
   ],
   "source": [
    "fig07, ax07 = plt.subplots()\n",
    "\n",
    "ax07.boxplot(df['ejection_fraction'], vert = False, flierprops = dict(markerfacecolor='b', marker='D'), labels = ['Patients'])\n",
    "plt.title(\"fig.7 Ejection Fraction of Patients\")\n",
    "plt.xlabel(\"Ejection Fraction (%)\")\n",
    "fig07.set_size_inches(17, 10)\n",
    "plt.show()"
   ]
  },
  {
   "cell_type": "code",
   "execution_count": 35,
   "id": "a1664fd0",
   "metadata": {},
   "outputs": [
    {
     "data": {
      "image/png": "[encoded data removed]",
      "text/plain": [
       "<Figure size 1224x720 with 1 Axes>"
      ]
     },
     "metadata": {
      "needs_background": "light"
     },
     "output_type": "display_data"
    }
   ],
   "source": [
    "fig08, ax08 = plt.subplots()\n",
    "\n",
    "ax08.boxplot(df['platelets'], vert = False, flierprops = dict(markerfacecolor='b', marker='D'), labels = ['Patients'])\n",
    "plt.title(\"fig.8 Platelet Count of Patients\")\n",
    "plt.xlabel(\"kiloplatelets/mL\")\n",
    "fig08.set_size_inches(17, 10)\n",
    "plt.show()"
   ]
  },
  {
   "cell_type": "code",
   "execution_count": 36,
   "id": "84bc53b4",
   "metadata": {},
   "outputs": [
    {
     "data": {
      "image/png": "[encoded data removed]",
      "text/plain": [
       "<Figure size 1224x720 with 1 Axes>"
      ]
     },
     "metadata": {
      "needs_background": "light"
     },
     "output_type": "display_data"
    }
   ],
   "source": [
    "fig09, ax09 = plt.subplots()\n",
    "\n",
    "ax09.boxplot(df['time'], vert = False, flierprops = dict(markerfacecolor='b', marker='D'), labels = ['Patients'])\n",
    "plt.title(\"fig.9 Follow-Up Period of Patients\")\n",
    "plt.xlabel(\"Days\")\n",
    "fig09.set_size_inches(17, 10)\n",
    "plt.show()"
   ]
  },
  {
   "cell_type": "code",
   "execution_count": 37,
   "id": "d4d4c83e",
   "metadata": {},
   "outputs": [
    {
     "data": {
      "image/png": "[encoded data removed]",
      "text/plain": [
       "<Figure size 1224x720 with 1 Axes>"
      ]
     },
     "metadata": {
      "needs_background": "light"
     },
     "output_type": "display_data"
    }
   ],
   "source": [
    "fig10, ax10 = plt.subplots()\n",
    "\n",
    "ax10.bar(df['smoking'].unique(), df['smoking'].value_counts(sort = False))\n",
    "\n",
    "plt.title(\"fig.10 Smoking Patients Distribution of Dataset\")\n",
    "plt.ylabel(\"Count\")\n",
    "fig10.set_size_inches(17, 10)\n",
    "plt.show()"
   ]
  },
  {
   "cell_type": "code",
   "execution_count": 38,
   "id": "49e6127f",
   "metadata": {},
   "outputs": [
    {
     "data": {
      "text/plain": [
       "non-smoker    162\n",
       "smoker         78\n",
       "Name: smoking, dtype: int64"
      ]
     },
     "execution_count": 38,
     "metadata": {},
     "output_type": "execute_result"
    }
   ],
   "source": [
    "df['smoking'].value_counts(sort = False)"
   ]
  },
  {
   "cell_type": "code",
   "execution_count": 39,
   "id": "916578f8",
   "metadata": {},
   "outputs": [
    {
     "name": "stdout",
     "output_type": "stream",
     "text": [
      "Percentage of smokers:  33.0 %.\n"
     ]
    }
   ],
   "source": [
    "print('Percentage of smokers: ', round(df[df['smoking'] == 'smoker'].shape[0] / df.shape[0], 2) * 100,'%.')"
   ]
  },
  {
   "cell_type": "markdown",
   "id": "5950e778",
   "metadata": {},
   "source": [
    "Another huge cause for concern: there are significantly more heart failure patients who smoke than those who don't."
   ]
  },
  {
   "cell_type": "markdown",
   "id": "33d5608a",
   "metadata": {},
   "source": [
    "=====================================\n",
    "="
   ]
  },
  {
   "cell_type": "markdown",
   "id": "63898977",
   "metadata": {},
   "source": [
    "We will proceed with this task beginning by studying the relationship between creatinine phosphokinase (CPK) and serum creatinine.\n",
    "\n",
    "The normal level of CPK in the blood is `10-120 mcg/L`. {<a href=\"https://www.mountsinai.org/health-library/tests/creatine-phosphokinase-test\">mountsinai.org</a>}"
   ]
  },
  {
   "cell_type": "code",
   "execution_count": 40,
   "id": "019fc5c0",
   "metadata": {},
   "outputs": [
    {
     "data": {
      "image/png": "[encoded data removed]",
      "text/plain": [
       "<Figure size 1224x720 with 1 Axes>"
      ]
     },
     "metadata": {
      "needs_background": "light"
     },
     "output_type": "display_data"
    }
   ],
   "source": [
    "fig11a, ax11a = plt.subplots()\n",
    "\n",
    "ax11a.scatter(df[df['DEATH_EVENT'] == 'alive']['creatinine_phosphokinase'], \n",
    "             df[df['DEATH_EVENT'] == 'alive']['serum_creatinine'],\n",
    "            label = \"Alive\")\n",
    "ax11a.scatter(df[df['DEATH_EVENT'] == 'dead']['creatinine_phosphokinase'], \n",
    "             df[df['DEATH_EVENT'] == 'dead']['serum_creatinine'],\n",
    "            label = \"Dead\")\n",
    "\n",
    "plt.title(\"fig.11a Creatinine Presence in Blood of Alive/Deceased Patients\")\n",
    "plt.xlabel(\"CPK (Creatinine Phosphokinase) in blood (mcg/L)\")\n",
    "plt.ylabel(\"Serum Creatinine (mg/dL)\")\n",
    "ax11a.legend()\n",
    "fig11a.set_size_inches(17, 10)\n",
    "plt.show()"
   ]
  },
  {
   "cell_type": "code",
   "execution_count": 41,
   "id": "2b2cf423",
   "metadata": {},
   "outputs": [
    {
     "data": {
      "image/png": "[encoded data removed]",
      "text/plain": [
       "<Figure size 1224x720 with 1 Axes>"
      ]
     },
     "metadata": {
      "needs_background": "light"
     },
     "output_type": "display_data"
    }
   ],
   "source": [
    "fig11b, ax11b = plt.subplots()\n",
    "\n",
    "ax11b.scatter(df[df['DEATH_EVENT'] == 'alive']['creatinine_phosphokinase'], \n",
    "             df[df['DEATH_EVENT'] == 'alive']['serum_creatinine'],\n",
    "            label = \"Alive\")\n",
    "ax11b.scatter(df[df['DEATH_EVENT'] == 'dead']['creatinine_phosphokinase'], \n",
    "             df[df['DEATH_EVENT'] == 'dead']['serum_creatinine'],\n",
    "            label = \"Dead\")\n",
    "\n",
    "# Display max normal CPK level dashed line:\n",
    "plt.axvline(x=120, color='grey', linestyle='--')\n",
    "\n",
    "plt.title(\"fig.11b Creatinine Presence in Blood of Alive/Deceased Patients (log(CPK))\")\n",
    "plt.xlabel(\"CPK (Creatinine Phosphokinase) in blood (mcg/L)\")\n",
    "plt.ylabel(\"Serum Creatinine (mg/dL)\")\n",
    "ax11b.legend()\n",
    "fig11b.set_size_inches(17, 10)\n",
    "\n",
    "ax11b.set_xscale('log')\n",
    "plt.show()"
   ]
  },
  {
   "cell_type": "markdown",
   "id": "487ce71e",
   "metadata": {},
   "source": [
    "At a glance, it can be seen that the levels of CPK and serum creatinine are inversely related. That is, as the amount of CPK in the blood increases, the amount of Serum Creatine decreases, and vice versa."
   ]
  },
  {
   "cell_type": "code",
   "execution_count": 42,
   "id": "d0e282aa",
   "metadata": {
    "scrolled": true
   },
   "outputs": [
    {
     "data": {
      "text/plain": [
       "58"
      ]
     },
     "execution_count": 42,
     "metadata": {},
     "output_type": "execute_result"
    }
   ],
   "source": [
    "normal = df[df['creatinine_phosphokinase'] <= 120]\n",
    "normal[normal['DEATH_EVENT'] == 'alive'].shape[0]"
   ]
  },
  {
   "cell_type": "code",
   "execution_count": 43,
   "id": "f6f54bc3",
   "metadata": {},
   "outputs": [
    {
     "data": {
      "image/png": "[encoded data removed]",
      "text/plain": [
       "<Figure size 1224x720 with 1 Axes>"
      ]
     },
     "metadata": {
      "needs_background": "light"
     },
     "output_type": "display_data"
    }
   ],
   "source": [
    "fig11c, ax11c = plt.subplots()\n",
    "\n",
    "normal = df[df['creatinine_phosphokinase'] <= 120]\n",
    "abnormal = df[df['creatinine_phosphokinase'] > 120]\n",
    "\n",
    "labels = ['Normal CPK Levels', 'Abnormal CPK Levels']\n",
    "alive = [normal[normal['DEATH_EVENT'] == 'alive'].shape[0], abnormal[abnormal['DEATH_EVENT'] == 'alive'].shape[0]]\n",
    "deceased = [normal[normal['DEATH_EVENT'] == 'dead'].shape[0], abnormal[abnormal['DEATH_EVENT'] == 'dead'].shape[0]]\n",
    "\n",
    "x = np.arange(len(labels))\n",
    "\n",
    "width = 0.35\n",
    "\n",
    "rects1 = ax11c.bar(x - width/2, alive, width, label='Alive')\n",
    "rects2 = ax11c.bar(x + width/2, deceased, width, label='Deceased')\n",
    "\n",
    "ax11c.set_ylabel('Count')\n",
    "ax11c.set_title('fig.11c Number of Patients with Normal and Abnormal CPK Levels')\n",
    "plt.xticks(x)\n",
    "ax11c.set_xticklabels(labels)\n",
    "ax11c.legend()\n",
    "\n",
    "fig11c.set_size_inches(17, 10)\n",
    "\n",
    "plt.show()"
   ]
  },
  {
   "cell_type": "code",
   "execution_count": 44,
   "id": "b8851f25",
   "metadata": {
    "scrolled": true
   },
   "outputs": [
    {
     "name": "stdout",
     "output_type": "stream",
     "text": [
      "Mortality increases from  25.0 % to  34.0 %.\n"
     ]
    }
   ],
   "source": [
    "print(\"Mortality increases from \", \n",
    "      round(normal[normal['DEATH_EVENT'] == 'dead'].shape[0] / normal.shape[0], 2) * 100,\n",
    "      \"% to \",\n",
    "      round(abnormal[abnormal['DEATH_EVENT'] == 'dead'].shape[0] / abnormal.shape[0], 2) * 100,\n",
    "      \"%.\")"
   ]
  },
  {
   "cell_type": "markdown",
   "id": "c5448747",
   "metadata": {},
   "source": [
    "## Data Modelling"
   ]
  },
  {
   "cell_type": "markdown",
   "id": "1291799d",
   "metadata": {},
   "source": [
    "The target value(s) for this dataset is the `'DEATH_EVENT'` feature.\n",
    "We will be using the random state of `'63'`."
   ]
  },
  {
   "cell_type": "code",
   "execution_count": 45,
   "id": "94436bdf",
   "metadata": {},
   "outputs": [],
   "source": [
    "# Initiallising modelling and target DataFrames\n",
    "model_df = df_before_pp.loc[:, df.columns != 'DEATH_EVENT']\n",
    "target_df = df_before_pp['DEATH_EVENT']"
   ]
  },
  {
   "cell_type": "code",
   "execution_count": 46,
   "id": "2518cd58",
   "metadata": {},
   "outputs": [
    {
     "data": {
      "text/plain": [
       "(240, 12)"
      ]
     },
     "execution_count": 46,
     "metadata": {},
     "output_type": "execute_result"
    }
   ],
   "source": [
    "model_df.shape"
   ]
  },
  {
   "cell_type": "code",
   "execution_count": 47,
   "id": "5b1e1d38",
   "metadata": {},
   "outputs": [
    {
     "data": {
      "text/plain": [
       "(240,)"
      ]
     },
     "execution_count": 47,
     "metadata": {},
     "output_type": "execute_result"
    }
   ],
   "source": [
    "target_df.shape"
   ]
  },
  {
   "cell_type": "code",
   "execution_count": 48,
   "id": "3cdcbf7a",
   "metadata": {
    "scrolled": true
   },
   "outputs": [
    {
     "data": {
      "text/plain": [
       "(     age  anaemia  creatinine_phosphokinase  diabetes  ejection_fraction  \\\n",
       " 186   65        0                        56         0                 25   \n",
       " 155   60        1                       104         1                 30   \n",
       " 90    45        0                       292         1                 35   \n",
       " 190   40        1                       129         0                 35   \n",
       " 235   62        0                        61         1                 38   \n",
       " ..   ...      ...                       ...       ...                ...   \n",
       " 82    65        1                       305         0                 25   \n",
       " 215   65        1                       258         1                 25   \n",
       " 139   59        0                        66         1                 20   \n",
       " 116   46        1                       291         0                 35   \n",
       " 44    70        1                        75         0                 35   \n",
       " \n",
       "      high_blood_pressure  platelets  serum_creatinine  serum_sodium  sex  \\\n",
       " 186                    0      237.0               5.0           130    0   \n",
       " 155                    0      389.0               1.5           136    1   \n",
       " 90                     0      850.0               1.3           142    1   \n",
       " 190                    0      255.0               0.9           137    1   \n",
       " 235                    1      155.0               1.1           143    1   \n",
       " ..                   ...        ...               ...           ...  ...   \n",
       " 82                     0      298.0               1.1           141    1   \n",
       " 215                    0      198.0               1.4           129    1   \n",
       " 139                    0       70.0               2.4           134    1   \n",
       " 116                    0      348.0               0.9           140    0   \n",
       " 44                     0      223.0               2.7           138    1   \n",
       " \n",
       "      smoking  time  \n",
       " 186        0   207  \n",
       " 155        0   171  \n",
       " 90         1    88  \n",
       " 190        0   209  \n",
       " 235        1   270  \n",
       " ..       ...   ...  \n",
       " 82         0    87  \n",
       " 215        0   235  \n",
       " 139        0   135  \n",
       " 116        0   109  \n",
       " 44         1    54  \n",
       " \n",
       " [216 rows x 12 columns],\n",
       "      age  anaemia  creatinine_phosphokinase  diabetes  ejection_fraction  \\\n",
       " 52    42        1                       250         1                 15   \n",
       " 154   58        1                       145         0                 25   \n",
       " 191   53        1                       707         0                 38   \n",
       " 145   60        1                        95         0                 60   \n",
       " 68    51        0                        78         0                 50   \n",
       " 146   69        0                      1419         0                 40   \n",
       " 230   90        1                       337         0                 38   \n",
       " 161   73        1                       231         1                 30   \n",
       " 63    55        0                       336         0                 45   \n",
       " 107   53        1                       270         1                 35   \n",
       " 10    50        1                       168         0                 38   \n",
       " 173   49        0                       972         1                 35   \n",
       " 233   52        0                       190         1                 38   \n",
       " 76    58        0                       144         1                 38   \n",
       " 51    60        0                        68         0                 20   \n",
       " 72    57        1                       115         0                 25   \n",
       " 194   70        0                       232         0                 30   \n",
       " 89    63        0                       936         0                 38   \n",
       " 93    50        0                       369         1                 25   \n",
       " 130   50        0                       250         0                 25   \n",
       " 163   65        0                       167         0                 30   \n",
       " 138   53        0                       196         0                 60   \n",
       " 42    60        1                       260         1                 38   \n",
       " 59    60        1                        47         0                 20   \n",
       " \n",
       "      high_blood_pressure  platelets  serum_creatinine  serum_sodium  sex  \\\n",
       " 52                     0      213.0              1.30           136    0   \n",
       " 154                    0      219.0              1.20           137    1   \n",
       " 191                    0      330.0              1.40           137    1   \n",
       " 145                    0      337.0              1.00           138    1   \n",
       " 68                     0      406.0              0.70           140    1   \n",
       " 146                    0      105.0              1.00           135    1   \n",
       " 230                    0      390.0              0.90           144    0   \n",
       " 161                    0      160.0              1.18           142    1   \n",
       " 63                     1      324.0              0.90           140    0   \n",
       " 107                    0      227.0              3.40           145    1   \n",
       " 10                     1      276.0              1.10           137    1   \n",
       " 173                    1      268.0              0.80           130    0   \n",
       " 233                    0      382.0              1.00           140    1   \n",
       " 76                     1      327.0              0.70           142    0   \n",
       " 51                     0      119.0              2.90           127    1   \n",
       " 72                     1      181.0              1.10           144    1   \n",
       " 194                    0      173.0              1.20           132    1   \n",
       " 89                     0      304.0              1.10           133    1   \n",
       " 93                     0      252.0              1.60           136    1   \n",
       " 130                    0      262.0              1.00           136    1   \n",
       " 163                    0      259.0              0.80           138    0   \n",
       " 138                    0      220.0              0.70           133    1   \n",
       " 42                     0      255.0              2.20           132    0   \n",
       " 59                     0      204.0              0.70           139    1   \n",
       " \n",
       "      smoking  time  \n",
       " 52         0    65  \n",
       " 154        1   170  \n",
       " 191        1   209  \n",
       " 145        1   146  \n",
       " 68         0    79  \n",
       " 146        1   147  \n",
       " 230        0   256  \n",
       " 161        1   180  \n",
       " 63         0    74  \n",
       " 107        0   105  \n",
       " 10         0    11  \n",
       " 173        0   187  \n",
       " 233        1   258  \n",
       " 76         0    83  \n",
       " 51         1    64  \n",
       " 72         0    79  \n",
       " 194        0   210  \n",
       " 89         1    88  \n",
       " 93         0    90  \n",
       " 130        1   120  \n",
       " 163        0   186  \n",
       " 138        1   134  \n",
       " 42         1    45  \n",
       " 59         1    73  ,\n",
       " 186    alive\n",
       " 155     dead\n",
       " 90     alive\n",
       " 190    alive\n",
       " 235    alive\n",
       "        ...  \n",
       " 82     alive\n",
       " 215     dead\n",
       " 139     dead\n",
       " 116    alive\n",
       " 44     alive\n",
       " Name: DEATH_EVENT, Length: 216, dtype: object,\n",
       " 52      dead\n",
       " 154     dead\n",
       " 191    alive\n",
       " 145    alive\n",
       " 68     alive\n",
       " 146    alive\n",
       " 230    alive\n",
       " 161    alive\n",
       " 63     alive\n",
       " 107    alive\n",
       " 10      dead\n",
       " 173    alive\n",
       " 233    alive\n",
       " 76     alive\n",
       " 51      dead\n",
       " 72     alive\n",
       " 194    alive\n",
       " 89     alive\n",
       " 93     alive\n",
       " 130    alive\n",
       " 163    alive\n",
       " 138    alive\n",
       " 42      dead\n",
       " 59      dead\n",
       " Name: DEATH_EVENT, dtype: object)"
      ]
     },
     "execution_count": 48,
     "metadata": {},
     "output_type": "execute_result"
    }
   ],
   "source": [
    "# Import ML and analysis modules\n",
    "from sklearn.model_selection import train_test_split\n",
    "from sklearn.neighbors import KNeighborsClassifier\n",
    "from sklearn.metrics import confusion_matrix, classification_report\n",
    "\n",
    "\n",
    "# Splitting data 90-10: 90% for training, 10% for testing\n",
    "# With a small dataset, we require as much training as possible\n",
    "x_train, x_test, y_train, y_test = train_test_split(model_df, target_df, test_size = 0.1, random_state = 63)\n",
    "x_train, x_test, y_train, y_test"
   ]
  },
  {
   "cell_type": "code",
   "execution_count": 49,
   "id": "4e963377",
   "metadata": {},
   "outputs": [
    {
     "data": {
      "text/plain": [
       "((216, 12), (24, 12))"
      ]
     },
     "execution_count": 49,
     "metadata": {},
     "output_type": "execute_result"
    }
   ],
   "source": [
    "x_train.shape, x_test.shape"
   ]
  },
  {
   "cell_type": "code",
   "execution_count": 50,
   "id": "1cfe376c",
   "metadata": {},
   "outputs": [
    {
     "data": {
      "text/plain": [
       "((216,), (24,))"
      ]
     },
     "execution_count": 50,
     "metadata": {},
     "output_type": "execute_result"
    }
   ],
   "source": [
    "y_train.shape, y_test.shape"
   ]
  },
  {
   "cell_type": "code",
   "execution_count": 51,
   "id": "2bb09128",
   "metadata": {},
   "outputs": [
    {
     "name": "stdout",
     "output_type": "stream",
     "text": [
      "Nearest Neighbor:  13 Correct Guesses:  21  Correct Death Guesses:  4\n",
      "Nearest Neighbor:  17 Correct Guesses:  21  Correct Death Guesses:  4\n"
     ]
    }
   ],
   "source": [
    "# This loop manually finds an acceptable Nearest Neighbor value\n",
    "for i in range(1,20):\n",
    "    # Iterate NN & fit\n",
    "    clf = KNeighborsClassifier(i)\n",
    "    clf.fit(x_train, y_train)\n",
    "    \n",
    "    # pred --> predicted result from test\n",
    "    pred = clf.predict(x_test)\n",
    "    pred, y_test\n",
    "    \n",
    "    # result --> DataFrame containing the predicted vs actual result\n",
    "    result = pd.DataFrame(data = {\n",
    "        'Predicted': pred,\n",
    "        'Actual': y_test\n",
    "    })\n",
    "    # Primary concern: True Negatives (correct death guesses)\n",
    "    # There are unfortunately no cases where the death of a patient \n",
    "    # was predicted successfully more than 3 times.\n",
    "    if result[(result['Predicted'] == 'dead') & (result['Actual'] == 'dead')].shape[0] > 3:\n",
    "        print('Nearest Neighbor: ', i, 'Correct Guesses: ', result[result['Predicted'] == result['Actual']].shape[0], ' Correct Death Guesses: ', result[(result['Predicted'] == 'dead') & (result['Actual'] == 'dead')].shape[0])\n"
   ]
  },
  {
   "cell_type": "markdown",
   "id": "e44d4457",
   "metadata": {},
   "source": [
    "Nearest Neighbor of `13` or `17` is ideal, as it returns an acceptable prediction. We will use `13`."
   ]
  },
  {
   "cell_type": "code",
   "execution_count": 52,
   "id": "45380ebd",
   "metadata": {},
   "outputs": [
    {
     "data": {
      "text/plain": [
       "array([[17,  1],\n",
       "       [ 2,  4]], dtype=int64)"
      ]
     },
     "execution_count": 52,
     "metadata": {},
     "output_type": "execute_result"
    }
   ],
   "source": [
    "# Set nearest neighbor value\n",
    "clf = KNeighborsClassifier(13)\n",
    "# Fit prediction\n",
    "clf.fit(x_train, y_train)\n",
    "pred = clf.predict(x_test)\n",
    "# Confusion Matirx\n",
    "cm = confusion_matrix(y_test, pred)\n",
    "cm"
   ]
  },
  {
   "cell_type": "code",
   "execution_count": 53,
   "id": "6895232e",
   "metadata": {},
   "outputs": [
    {
     "name": "stdout",
     "output_type": "stream",
     "text": [
      "              precision    recall  f1-score   support\n",
      "\n",
      "       alive       0.89      0.94      0.92        18\n",
      "        dead       0.80      0.67      0.73         6\n",
      "\n",
      "    accuracy                           0.88        24\n",
      "   macro avg       0.85      0.81      0.82        24\n",
      "weighted avg       0.87      0.88      0.87        24\n",
      "\n"
     ]
    }
   ],
   "source": [
    "# Classification report\n",
    "print(classification_report(y_test, pred))"
   ]
  }
 ],
 "metadata": {
  "kernelspec": {
   "display_name": "Python 3",
   "language": "python",
   "name": "python3"
  },
  "language_info": {
   "codemirror_mode": {
    "name": "ipython",
    "version": 3
   },
   "file_extension": ".py",
   "mimetype": "text/x-python",
   "name": "python",
   "nbconvert_exporter": "python",
   "pygments_lexer": "ipython3",
   "version": "3.8.8"
  }
 },
 "nbformat": 4,
 "nbformat_minor": 5
}
